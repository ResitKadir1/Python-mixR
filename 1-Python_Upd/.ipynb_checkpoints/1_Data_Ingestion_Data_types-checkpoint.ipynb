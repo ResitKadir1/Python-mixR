{
 "cells": [
  {
   "cell_type": "markdown",
   "id": "dbf6de81",
   "metadata": {},
   "source": [
    "# Data Types"
   ]
  },
  {
   "cell_type": "code",
   "execution_count": 1,
   "id": "b2aa00e2",
   "metadata": {},
   "outputs": [],
   "source": [
    "#!pip install pandas\n",
    "#!pip install pip-autoremove"
   ]
  },
  {
   "cell_type": "markdown",
   "id": "cf35a627",
   "metadata": {},
   "source": [
    "# CSV"
   ]
  },
  {
   "cell_type": "code",
   "execution_count": 12,
   "id": "6b7c5e06",
   "metadata": {},
   "outputs": [],
   "source": [
    "data_path = \"/Users/resitkadir/Desktop/Python-mix/2-Data_Ingestion_Python/data/\""
   ]
  },
  {
   "cell_type": "markdown",
   "id": "ffdf7897",
   "metadata": {},
   "source": [
    "2.1"
   ]
  },
  {
   "cell_type": "code",
   "execution_count": 15,
   "id": "e79d1c48",
   "metadata": {},
   "outputs": [
    {
     "name": "stdout",
     "output_type": "stream",
     "text": [
      "{'distance': 2.57,\n",
      " 'dropoff_time': datetime.datetime(2018, 11, 1, 6, 43, 24),\n",
      " 'num_passengers': 1,\n",
      " 'pickup_time': datetime.datetime(2018, 10, 31, 7, 10, 55),\n",
      " 'price': 20.54,\n",
      " 'tip': 4.74,\n",
      " 'vendor_id': 2}\n",
      "{'distance': 3.58,\n",
      " 'dropoff_time': datetime.datetime(2018, 10, 31, 16, 50, 10),\n",
      " 'num_passengers': 5,\n",
      " 'pickup_time': datetime.datetime(2018, 10, 31, 16, 38, 25),\n",
      " 'price': 13.8,\n",
      " 'tip': 0.0,\n",
      " 'vendor_id': 2}\n",
      "{'distance': 2.39,\n",
      " 'dropoff_time': datetime.datetime(2018, 10, 31, 20, 31, 47),\n",
      " 'num_passengers': 1,\n",
      " 'pickup_time': datetime.datetime(2018, 10, 31, 20, 23, 41),\n",
      " 'price': 11.3,\n",
      " 'tip': 1.0,\n",
      " 'vendor_id': 2}\n",
      "{'distance': 0.5,\n",
      " 'dropoff_time': datetime.datetime(2018, 10, 31, 22, 48, 28),\n",
      " 'num_passengers': 1,\n",
      " 'pickup_time': datetime.datetime(2018, 10, 31, 22, 44, 24),\n",
      " 'price': 5.8,\n",
      " 'tip': 0.0,\n",
      " 'vendor_id': 2}\n",
      "{'distance': 1.81,\n",
      " 'dropoff_time': datetime.datetime(2018, 10, 31, 23, 35, 30),\n",
      " 'num_passengers': 1,\n",
      " 'pickup_time': datetime.datetime(2018, 10, 31, 23, 22, 18),\n",
      " 'price': 13.56,\n",
      " 'tip': 2.26,\n",
      " 'vendor_id': 2}\n",
      "{'distance': 7.91,\n",
      " 'dropoff_time': datetime.datetime(2018, 10, 31, 23, 44, 33),\n",
      " 'num_passengers': 1,\n",
      " 'pickup_time': datetime.datetime(2018, 10, 31, 23, 27, 39),\n",
      " 'price': 24.3,\n",
      " 'tip': 0.0,\n",
      " 'vendor_id': 2}\n",
      "{'distance': 2.24,\n",
      " 'dropoff_time': datetime.datetime(2018, 10, 31, 23, 46, 52),\n",
      " 'num_passengers': 1,\n",
      " 'pickup_time': datetime.datetime(2018, 10, 31, 23, 40, 55),\n",
      " 'price': 11.62,\n",
      " 'tip': 2.32,\n",
      " 'vendor_id': 2}\n",
      "{'distance': 2.31,\n",
      " 'dropoff_time': datetime.datetime(2018, 10, 31, 23, 56, 44),\n",
      " 'num_passengers': 1,\n",
      " 'pickup_time': datetime.datetime(2018, 10, 31, 23, 45, 53),\n",
      " 'price': 11.3,\n",
      " 'tip': 0.0,\n",
      " 'vendor_id': 2}\n",
      "{'distance': 0.68,\n",
      " 'dropoff_time': datetime.datetime(2018, 10, 31, 23, 52, 54),\n",
      " 'num_passengers': 1,\n",
      " 'pickup_time': datetime.datetime(2018, 10, 31, 23, 46, 42),\n",
      " 'price': 6.8,\n",
      " 'tip': 0.0,\n",
      " 'vendor_id': 2}\n",
      "{'distance': 1.65,\n",
      " 'dropoff_time': datetime.datetime(2018, 11, 1, 0, 10, 33),\n",
      " 'num_passengers': 1,\n",
      " 'pickup_time': datetime.datetime(2018, 10, 31, 23, 47, 30),\n",
      " 'price': 17.8,\n",
      " 'tip': 2.0,\n",
      " 'vendor_id': 2}\n"
     ]
    }
   ],
   "source": [
    "\"\"\"Load & convert data from CSV file using Python built-in csv module\"\"\"\n",
    "import bz2\n",
    "import csv\n",
    "from collections import namedtuple\n",
    "from datetime import datetime\n",
    "\n",
    "Column = namedtuple('Column', 'src dest convert')\n",
    "\n",
    "\n",
    "def parse_timestamp(text):\n",
    "    return datetime.strptime(text, '%Y-%m-%d %H:%M:%S')\n",
    "\n",
    "\n",
    "columns = [\n",
    "    Column('VendorID', 'vendor_id', int),\n",
    "    Column('passenger_count', 'num_passengers', int),\n",
    "    Column('tip_amount', 'tip', float),\n",
    "    Column('total_amount', 'price', float),\n",
    "    Column('tpep_dropoff_datetime', 'dropoff_time', parse_timestamp),\n",
    "    Column('tpep_pickup_datetime', 'pickup_time', parse_timestamp),\n",
    "    Column('trip_distance', 'distance', float),\n",
    "]\n",
    "\n",
    "\n",
    "def iter_records(file_name):\n",
    "    with bz2.open(file_name, 'rt') as fp:\n",
    "        reader = csv.DictReader(fp)\n",
    "        for csv_record in reader:\n",
    "            record = {}\n",
    "            for col in columns:\n",
    "                value = csv_record[col.src]\n",
    "                record[col.dest] = col.convert(value)\n",
    "            yield record\n",
    "\n",
    "\n",
    "def example():\n",
    "    from pprint import pprint\n",
    "\n",
    "    for i, record in enumerate(iter_records(data_path+'taxi.csv.bz2')):\n",
    "        if i >= 10:\n",
    "            break\n",
    "        pprint(record)\n",
    "\n",
    "\n",
    "example()"
   ]
  },
  {
   "cell_type": "code",
   "execution_count": 8,
   "id": "d68fb41b",
   "metadata": {},
   "outputs": [],
   "source": [
    "#2.2 #pandas convert all data type automatically into relevant onces, except timestaps#\n",
    "#csv_pv csv_pandas"
   ]
  },
  {
   "cell_type": "code",
   "execution_count": 17,
   "id": "2c3887b4",
   "metadata": {},
   "outputs": [
    {
     "name": "stdout",
     "output_type": "stream",
     "text": [
      "   VendorID tpep_pickup_datetime tpep_dropoff_datetime  passenger_count  \\\n",
      "0         2  2018-10-31 07:10:55   2018-11-01 06:43:24                1   \n",
      "1         2  2018-10-31 16:38:25   2018-10-31 16:50:10                5   \n",
      "\n",
      "   trip_distance  RatecodeID store_and_fwd_flag  PULocationID  DOLocationID  \\\n",
      "0           2.57           1                  N           211            48   \n",
      "1           3.58           1                  N           237           144   \n",
      "\n",
      "   payment_type  fare_amount  extra  mta_tax  tip_amount  tolls_amount  \\\n",
      "0             1         14.5    0.5      0.5        4.74           0.0   \n",
      "1             2         12.5    0.5      0.5        0.00           0.0   \n",
      "\n",
      "   improvement_surcharge  total_amount  \n",
      "0                    0.3         20.54  \n",
      "1                    0.3         13.80  \n"
     ]
    }
   ],
   "source": [
    "\"\"\"Load & converting data from CSV using Pandas\"\"\"\n",
    "import pandas as pd\n",
    "\n",
    "time_cols = ['tpep_dropoff_datetime', 'tpep_pickup_datetime']\n",
    "\n",
    "def load_df(file_name):\n",
    "    return pd.read_csv(data_path+'taxi.csv.bz2', parse_dates=time_cols)\n",
    "\n",
    "print(load_df('taxi.csv.bz2').head(2))\n"
   ]
  },
  {
   "cell_type": "markdown",
   "id": "bcae192b",
   "metadata": {},
   "source": [
    "# XML"
   ]
  },
  {
   "cell_type": "code",
   "execution_count": 19,
   "id": "e36e26d9",
   "metadata": {},
   "outputs": [
    {
     "name": "stdout",
     "output_type": "stream",
     "text": [
      "vendor               int64\n",
      "people               int64\n",
      "tip                float64\n",
      "price              float64\n",
      "pickup      datetime64[ns]\n",
      "dropoff     datetime64[ns]\n",
      "distance           float64\n",
      "dtype: object\n",
      "   vendor  people   tip  price              pickup             dropoff  \\\n",
      "0       2       1  4.74  20.54 2018-10-31 07:10:55 2018-11-01 06:43:24   \n",
      "1       2       5  0.00  13.80 2018-10-31 16:38:25 2018-10-31 16:50:10   \n",
      "2       2       1  1.00  11.30 2018-10-31 20:23:41 2018-10-31 20:31:47   \n",
      "3       2       1  0.00   5.80 2018-10-31 22:44:24 2018-10-31 22:48:28   \n",
      "4       2       1  2.26  13.56 2018-10-31 23:22:18 2018-10-31 23:35:30   \n",
      "\n",
      "   distance  \n",
      "0      2.57  \n",
      "1      3.58  \n",
      "2      2.39  \n",
      "3      0.50  \n",
      "4      1.81  \n"
     ]
    }
   ],
   "source": [
    "\"\"\"Load rides data from XML\"\"\"\n",
    "\n",
    "import bz2\n",
    "import xml.etree.ElementTree as xml\n",
    "\n",
    "import pandas as pd\n",
    "\n",
    "# Data conversions\n",
    "conversion = [\n",
    "    ('vendor', int),\n",
    "    ('people', int),\n",
    "    ('tip', float),\n",
    "    ('price', float),\n",
    "    ('pickup', pd.to_datetime),\n",
    "    ('dropoff', pd.to_datetime),\n",
    "    ('distance', float),\n",
    "]\n",
    "\n",
    "\n",
    "def iter_rides(file_name):\n",
    "    with bz2.open(file_name, 'rt') as fp:\n",
    "        tree = xml.parse(fp)\n",
    "\n",
    "    rides = tree.getroot()\n",
    "    for elem in rides:\n",
    "        record = {}\n",
    "        for tag, func in conversion:\n",
    "            text = elem.find(tag).text\n",
    "            record[tag] = func(text)\n",
    "        yield record\n",
    "\n",
    "\n",
    "def load_xml(file_name):\n",
    "    records = iter_rides(file_name)\n",
    "    return pd.DataFrame.from_records(records)\n",
    "\n",
    "\n",
    "# Example\n",
    "if __name__ == '__main__':\n",
    "    df = load_xml(data_path+'taxi.xml.bz2')\n",
    "    print(df.dtypes)\n",
    "    print(df.head())"
   ]
  },
  {
   "cell_type": "markdown",
   "id": "9f921d3a",
   "metadata": {},
   "source": [
    "# Parquet to CsV"
   ]
  },
  {
   "cell_type": "code",
   "execution_count": 23,
   "id": "26db6570",
   "metadata": {},
   "outputs": [
    {
     "data": {
      "text/plain": [
       "pandas.core.frame.DataFrame"
      ]
     },
     "execution_count": 23,
     "metadata": {},
     "output_type": "execute_result"
    }
   ],
   "source": [
    "import pyarrow.parquet as pq\n",
    "\n",
    "table = pq.read_table(data_path+\"taxi.parquet\")\n",
    "\n",
    "#apache arrow\n",
    "df = table.to_pandas()\n",
    "\n",
    "type(df)"
   ]
  },
  {
   "cell_type": "markdown",
   "id": "1272d3fb",
   "metadata": {},
   "source": [
    "# Parse Logs"
   ]
  },
  {
   "cell_type": "code",
   "execution_count": 25,
   "id": "59022a10",
   "metadata": {},
   "outputs": [],
   "source": [
    "#https://pythex.org/ #--regex"
   ]
  },
  {
   "cell_type": "code",
   "execution_count": 38,
   "id": "7aad865c",
   "metadata": {},
   "outputs": [
    {
     "name": "stdout",
     "output_type": "stream",
     "text": [
      "{'amount': 20.54,\n",
      " 'count': 1,\n",
      " 'start': datetime.datetime(2018, 10, 31, 7, 10, 55)}\n",
      "{'amount': 13.8,\n",
      " 'count': 5,\n",
      " 'start': datetime.datetime(2018, 10, 31, 16, 38, 25)}\n",
      "{'amount': 11.3,\n",
      " 'count': 1,\n",
      " 'start': datetime.datetime(2018, 10, 31, 20, 23, 41)}\n",
      "{'amount': 5.8,\n",
      " 'count': 1,\n",
      " 'start': datetime.datetime(2018, 10, 31, 22, 44, 24)}\n",
      "{'amount': 13.56,\n",
      " 'count': 1,\n",
      " 'start': datetime.datetime(2018, 10, 31, 23, 22, 18)}\n",
      "{'amount': 24.3,\n",
      " 'count': 1,\n",
      " 'start': datetime.datetime(2018, 10, 31, 23, 27, 39)}\n"
     ]
    }
   ],
   "source": [
    "\"\"\"Convert unstructured ride text to JSON\"\"\"\n",
    "import bz2\n",
    "import logging\n",
    "import re\n",
    "from datetime import datetime\n",
    "\n",
    "\n",
    "def parse_line(line):\n",
    "    # Example:\n",
    "    # Ride of 1 passenger started at 2018-10-31T07:10:55 and paid $20.54\n",
    "    match = re.search(\n",
    "        r'(\\d+) pass.*started at ([^ ]+).*paid \\$(\\d+\\.\\d+)',\n",
    "        line)\n",
    "    if not match:\n",
    "        return None\n",
    "\n",
    "    return {\n",
    "        'count': int(match.group(1)),\n",
    "        'start': datetime.fromisoformat(match.group(2)),\n",
    "        'amount': float(match.group(3)),\n",
    "    }\n",
    "\n",
    "\n",
    "def iter_rides(file_name):\n",
    "    with bz2.open(file_name, 'rt') as fp:\n",
    "        for lnum, line in enumerate(fp, 1):\n",
    "            record = parse_line(line)\n",
    "            if not record:\n",
    "                logging.warning('%s: cannot parse line', lnum)\n",
    "                continue\n",
    "            yield record\n",
    "\n",
    "\n",
    "# Example\n",
    "if __name__ == '__main__':\n",
    "    from pprint import pprint\n",
    "\n",
    "    for n, ride in enumerate(iter_rides(data_path+'taxi.log.bz2')):\n",
    "        #print(ride )\n",
    "        if n > 5:\n",
    "        \n",
    "            break\n",
    "        pprint(ride)\n",
    "\n",
    "\n",
    "\n",
    "#pythox--> regex playground"
   ]
  },
  {
   "cell_type": "markdown",
   "id": "011cdb27",
   "metadata": {},
   "source": [
    "## Julia-JSON"
   ]
  },
  {
   "cell_type": "code",
   "execution_count": 48,
   "id": "6f7a4886",
   "metadata": {},
   "outputs": [
    {
     "name": "stdout",
     "output_type": "stream",
     "text": [
      "{\"vendor\":1,\"pickup\":\"2018-11-01T11:04:08.000Z\",\"dropoff\":\"2018-11-01T11:10:34.000Z\",\"distance\":1.2,\"tip\":0.0,\"total\":7.8}\n",
      "\n"
     ]
    }
   ],
   "source": [
    "\"\"\"Calculate average ride duration, from file with JSON object per line\"\"\"\n",
    "\n",
    "import json\n",
    "from datetime import datetime, timedelta\n",
    "\n",
    "\n",
    "def parse_time(ts):\n",
    "    \"\"\"\n",
    "    >>> parse_time('2018-10-31T07:10:55.000Z')\n",
    "    datetime.datetime(2018, 10, 31, 7, 10, 55)\n",
    "    \"\"\"\n",
    "    # [:-1] trims Z suffix\n",
    "    return datetime.fromisoformat(ts[:-1])\n",
    "\n",
    "\n",
    "def fix_pair(pair):\n",
    "    key, value = pair\n",
    "    if key not in ('pickup', 'dropoff'):\n",
    "        return pair\n",
    "    return key, parse_time(value)\n",
    "\n",
    "\n",
    "def pairs_hook(pairs):\n",
    "    return dict(fix_pair(pair) for pair in pairs)\n",
    "\n",
    "\n",
    "durations = []\n",
    "with open(data_path+'taxi.jl') as fp:\n",
    "    for line in fp:\n",
    "        obj = json.loads(line, object_pairs_hook=pairs_hook)\n",
    "        duration = obj['dropoff'] - obj['pickup']\n",
    "        durations.append(duration)\n",
    "    print(line)\n",
    "\n"
   ]
  },
  {
   "cell_type": "code",
   "execution_count": 44,
   "id": "af33bba1",
   "metadata": {},
   "outputs": [
    {
     "name": "stdout",
     "output_type": "stream",
     "text": [
      "average ride duration: 0:17:28.555600\n"
     ]
    }
   ],
   "source": [
    "avg_duration = sum(durations, timedelta()) / len(durations)\n",
    "print(f'average ride duration: {avg_duration}')"
   ]
  },
  {
   "cell_type": "markdown",
   "id": "869dc7f0",
   "metadata": {},
   "source": [
    "# CSVtoJSON"
   ]
  },
  {
   "cell_type": "code",
   "execution_count": 52,
   "id": "bc3a909e",
   "metadata": {},
   "outputs": [],
   "source": [
    "\"\"\"Convert CSV to JSON (one object per line)\"\"\"\n",
    "import bz2\n",
    "import csv\n",
    "import json\n",
    "from collections import namedtuple\n",
    "from datetime import datetime\n",
    "\n",
    "Column = namedtuple('Column', 'src dest convert')\n",
    "\n",
    "\n",
    "def parse_timestamp(text):\n",
    "    return datetime.strptime(text, '%Y-%m-%d %H:%M:%S')\n",
    "\n",
    "\n",
    "columns = [\n",
    "    Column('VendorID', 'vendor_id', int),\n",
    "    Column('passenger_count', 'num_passengers', int),\n",
    "    Column('tip_amount', 'tip', float),\n",
    "    Column('total_amount', 'price', float),\n",
    "    Column('tpep_dropoff_datetime', 'dropoff_time', parse_timestamp),\n",
    "    Column('tpep_pickup_datetime', 'pickup_time', parse_timestamp),\n",
    "    Column('trip_distance', 'distance', float),\n",
    "]\n",
    "\n",
    "\n",
    "def iter_records(file_name):\n",
    "    with bz2.open(file_name, 'rt') as fp:\n",
    "        reader = csv.DictReader(fp)\n",
    "        for csv_record in reader:\n",
    "            record = {}\n",
    "            for col in columns:\n",
    "                value = csv_record[col.src]\n",
    "                record[col.dest] = col.convert(value)\n",
    "            yield record\n",
    "\n",
    "\n",
    "def encode_time(obj):\n",
    "    if not isinstance(obj, datetime):\n",
    "        return obj\n",
    "    return obj.isoformat()\n",
    "\n",
    "\n",
    "with open(data_path+'taxi.jl', 'w') as out:\n",
    "    for record in iter_records(data_path+'taxi.csv.bz2'):\n",
    "        data = json.dumps(record, default=encode_time)\n",
    "        out.write(f'{data}\\n')\n"
   ]
  },
  {
   "cell_type": "code",
   "execution_count": null,
   "id": "d4db4583",
   "metadata": {},
   "outputs": [],
   "source": []
  }
 ],
 "metadata": {
  "kernelspec": {
   "display_name": "Python 3",
   "language": "python",
   "name": "python3"
  },
  "language_info": {
   "codemirror_mode": {
    "name": "ipython",
    "version": 3
   },
   "file_extension": ".py",
   "mimetype": "text/x-python",
   "name": "python",
   "nbconvert_exporter": "python",
   "pygments_lexer": "ipython3",
   "version": "3.8.8"
  }
 },
 "nbformat": 4,
 "nbformat_minor": 5
}
