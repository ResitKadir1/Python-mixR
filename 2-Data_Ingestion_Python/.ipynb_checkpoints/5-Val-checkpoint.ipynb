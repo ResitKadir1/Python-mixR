{
 "cells": [
  {
   "cell_type": "code",
   "execution_count": null,
   "id": "6a6e4919",
   "metadata": {},
   "outputs": [],
   "source": []
  },
  {
   "cell_type": "code",
   "execution_count": 1,
   "id": "9cd59f5c",
   "metadata": {},
   "outputs": [],
   "source": [
    "\"\"\"Schemd validation example\"\"\"\n",
    "from collections import namedtuple\n",
    "from datetime import date, time\n",
    "\n",
    "Record = namedtuple('Record', 'date snow tmax tmin pgtm')\n",
    "_missing = object()  # unique missing value\n",
    "\n",
    "\n",
    "def validate_temp(name, temp):\n",
    "    # temp in Celsius/10\n",
    "    assert temp > -900, f'{name} {temp} too low'\n",
    "    assert temp < 600, f'{name} {temp} too high'\n",
    "\n",
    "\n",
    "def validate_snow(name, val):\n",
    "    assert val >= 0, f'negative {name} - {val}'\n",
    "\n",
    "\n",
    "validators = [\n",
    "    ('date', None),  # No need, datetime will validate\n",
    "    ('snow', validate_snow),\n",
    "    ('tmax', validate_temp),\n",
    "    ('tmin', validate_temp),\n",
    "    ('pgtm', None),  # No need, datetime will validate\n",
    "]\n",
    "\n",
    "\n",
    "def validate(record):\n",
    "    for attr, validator in validators:\n",
    "        value = getattr(record, attr, _missing)\n",
    "        assert value is not _missing, f'missing {attr}'\n",
    "        if validator:\n",
    "            validator(attr, value)\n",
    "\n",
    "\n",
    "# Example\n",
    "\n",
    "data = [\n",
    "    Record(date(2000, 1, 1), 0, 100,  11, time(13, 37)),\n",
    "    Record(date(2000, 1, 2), 0, 156,  61, time(23, 13)),\n",
    "    Record(date(2000, 1, 3), 0, 178, 106, time(3,  20)),\n",
    "    Record(date(2000, 1, 4), 0, 156,  78, time(18, 19)),\n",
    "    Record(date(2000, 1, 5), 0,  83,  17, time(8,  43)),\n",
    "]\n",
    "\n",
    "for record in data:\n",
    "    validate(record)\n"
   ]
  },
  {
   "cell_type": "code",
   "execution_count": null,
   "id": "b78e676d",
   "metadata": {},
   "outputs": [],
   "source": []
  }
 ],
 "metadata": {
  "kernelspec": {
   "display_name": "Python 3",
   "language": "python",
   "name": "python3"
  },
  "language_info": {
   "codemirror_mode": {
    "name": "ipython",
    "version": 3
   },
   "file_extension": ".py",
   "mimetype": "text/x-python",
   "name": "python",
   "nbconvert_exporter": "python",
   "pygments_lexer": "ipython3",
   "version": "3.8.8"
  }
 },
 "nbformat": 4,
 "nbformat_minor": 5
}
